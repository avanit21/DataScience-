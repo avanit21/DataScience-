{
 "cells": [
  {
   "cell_type": "code",
   "execution_count": 1,
   "metadata": {},
   "outputs": [],
   "source": [
    "import pandas as pd\n",
    "\n",
    "X_train=pd.read_csv('X_train.csv')\n",
    "\n",
    "Y_train=pd.read_csv('Y_train.csv')\n",
    "\n",
    "X_test=pd.read_csv('X_test.csv')\n",
    "\n",
    "Y_test=pd.read_csv('Y_test.csv')"
   ]
  },
  {
   "cell_type": "code",
   "execution_count": 3,
   "metadata": {},
   "outputs": [
    {
     "name": "stdout",
     "output_type": "stream",
     "text": [
      "    Loan_ID Gender Married Dependents Education Self_Employed  \\\n",
      "0  LP001032   Male      No          0  Graduate            No   \n",
      "1  LP001824   Male     Yes          1  Graduate            No   \n",
      "2  LP002928   Male     Yes          0  Graduate            No   \n",
      "3  LP001814   Male     Yes          2  Graduate            No   \n",
      "4  LP002244   Male     Yes          0  Graduate            No   \n",
      "\n",
      "   ApplicantIncome  CoapplicantIncome  LoanAmount  Loan_Amount_Term  \\\n",
      "0             4950                0.0         125               360   \n",
      "1             2882             1843.0         123               480   \n",
      "2             3000             3416.0          56               180   \n",
      "3             9703                0.0         112               360   \n",
      "4             2333             2417.0         136               360   \n",
      "\n",
      "   Credit_History Property_Area  \n",
      "0               1         Urban  \n",
      "1               1     Semiurban  \n",
      "2               1     Semiurban  \n",
      "3               1         Urban  \n",
      "4               1         Urban  \n"
     ]
    }
   ],
   "source": [
    "print (X_train.head())"
   ]
  },
  {
   "cell_type": "code",
   "execution_count": 7,
   "metadata": {},
   "outputs": [
    {
     "name": "stdout",
     "output_type": "stream",
     "text": [
      "0.75\n"
     ]
    },
    {
     "name": "stderr",
     "output_type": "stream",
     "text": [
      "C:\\Users\\TML\\Anaconda3\\lib\\site-packages\\sklearn\\linear_model\\logistic.py:432: FutureWarning: Default solver will be changed to 'lbfgs' in 0.22. Specify a solver to silence this warning.\n",
      "  FutureWarning)\n",
      "C:\\Users\\TML\\Anaconda3\\lib\\site-packages\\sklearn\\utils\\validation.py:724: DataConversionWarning: A column-vector y was passed when a 1d array was expected. Please change the shape of y to (n_samples, ), for example using ravel().\n",
      "  y = column_or_1d(y, warn=True)\n"
     ]
    }
   ],
   "source": [
    "from sklearn.preprocessing import scale\n",
    "from sklearn.metrics import accuracy_score\n",
    "X_train_scale=scale(X_train[['ApplicantIncome', 'CoapplicantIncome',\n",
    "                'LoanAmount', 'Loan_Amount_Term', 'Credit_History']])\n",
    "X_test_scale=scale(X_test[['ApplicantIncome', 'CoapplicantIncome',\n",
    "               'LoanAmount', 'Loan_Amount_Term', 'Credit_History']])\n",
    "from sklearn.linear_model import LogisticRegression\n",
    "\n",
    "log=LogisticRegression(penalty='l2',C=.01)\n",
    "log.fit(X_train_scale,Y_train)\n",
    "print(accuracy_score(Y_test,log.predict(X_test_scale)))"
   ]
  },
  {
   "cell_type": "code",
   "execution_count": 8,
   "metadata": {},
   "outputs": [],
   "source": [
    "from sklearn.preprocessing import LabelEncoder\n",
    "le=LabelEncoder()\n",
    "for col in X_test.columns.values:\n",
    "    if X_test[col].dtypes=='object':\n",
    "        data=X_train[col].append(X_test[col])\n",
    "        le.fit(data.values)\n",
    "        X_train[col]=le.transform(X_train[col])\n",
    "        X_test[col]=le.transform(X_test[col])"
   ]
  },
  {
   "cell_type": "code",
   "execution_count": 9,
   "metadata": {},
   "outputs": [
    {
     "name": "stderr",
     "output_type": "stream",
     "text": [
      "C:\\Users\\TML\\Anaconda3\\lib\\site-packages\\sklearn\\linear_model\\logistic.py:432: FutureWarning: Default solver will be changed to 'lbfgs' in 0.22. Specify a solver to silence this warning.\n",
      "  FutureWarning)\n",
      "C:\\Users\\TML\\Anaconda3\\lib\\site-packages\\sklearn\\utils\\validation.py:724: DataConversionWarning: A column-vector y was passed when a 1d array was expected. Please change the shape of y to (n_samples, ), for example using ravel().\n",
      "  y = column_or_1d(y, warn=True)\n"
     ]
    },
    {
     "data": {
      "text/plain": [
       "0.75"
      ]
     },
     "execution_count": 9,
     "metadata": {},
     "output_type": "execute_result"
    }
   ],
   "source": [
    "X_train_scale=scale(X_train)\n",
    "X_test_scale=scale(X_test)\n",
    "log=LogisticRegression(penalty='l2',C=.01)\n",
    "log.fit(X_train_scale,Y_train)\n",
    "accuracy_score(Y_test,log.predict(X_test_scale))"
   ]
  },
  {
   "cell_type": "code",
   "execution_count": null,
   "metadata": {},
   "outputs": [],
   "source": []
  }
 ],
 "metadata": {
  "kernelspec": {
   "display_name": "Python 3",
   "language": "python",
   "name": "python3"
  },
  "language_info": {
   "codemirror_mode": {
    "name": "ipython",
    "version": 3
   },
   "file_extension": ".py",
   "mimetype": "text/x-python",
   "name": "python",
   "nbconvert_exporter": "python",
   "pygments_lexer": "ipython3",
   "version": "3.7.3"
  }
 },
 "nbformat": 4,
 "nbformat_minor": 2
}
